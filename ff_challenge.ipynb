{
 "cells": [
  {
   "cell_type": "markdown",
   "metadata": {},
   "source": [
    "# q1"
   ]
  },
  {
   "cell_type": "code",
   "execution_count": 1,
   "metadata": {},
   "outputs": [],
   "source": [
    "class list_class:\n",
    "    \n",
    "    def __init__(self):\n",
    "        self.myList = []\n",
    "        \n",
    "    # method to add items to the list    \n",
    "    def put_item(self, item):\n",
    "        self.myList.append(item)\n",
    "        \n",
    "    # method to return all unique items from list    \n",
    "    def get_unique_items(self):\n",
    "        return set(self.myList)\n",
    "        \n",
    "    # method to get all items and their frequencies\n",
    "    # as dictionary\n",
    "    def get_histogram_items(self):\n",
    "        return {x:self.myList.count(x) for x in self.myList}\n",
    "        "
   ]
  },
  {
   "cell_type": "code",
   "execution_count": 2,
   "metadata": {},
   "outputs": [],
   "source": [
    "alist = list_class()\n",
    "alist.put_item(3)\n",
    "alist.put_item(1)\n",
    "alist.put_item(1)\n",
    "alist.put_item(1)\n",
    "alist.put_item(2)\n",
    "alist.put_item(2)\n",
    "\n",
    "print(alist.get_unique_items())\n",
    "print(alist.get_histogram_items())"
   ]
  },
  {
   "cell_type": "markdown",
   "metadata": {},
   "source": [
    "# q2"
   ]
  },
  {
   "cell_type": "code",
   "execution_count": 3,
   "metadata": {},
   "outputs": [],
   "source": [
    "def convert(in_string = ' '):\n",
    "    out_value = None\n",
    "    \n",
    "    try:\n",
    "        out_value = int(in_string)\n",
    "        \n",
    "    except ValueError:\n",
    "        try:\n",
    "            out_value = float(in_string)\n",
    "            \n",
    "        except ValueError:\n",
    "            out_value = in_string\n",
    "                \n",
    "        \n",
    "    return out_value"
   ]
  },
  {
   "cell_type": "code",
   "execution_count": 4,
   "metadata": {},
   "outputs": [
    {
     "data": {
      "text/plain": [
       "'1w'"
      ]
     },
     "execution_count": 4,
     "metadata": {},
     "output_type": "execute_result"
    }
   ],
   "source": [
    "convert('1w')"
   ]
  },
  {
   "cell_type": "markdown",
   "metadata": {},
   "source": [
    "# q3"
   ]
  },
  {
   "cell_type": "code",
   "execution_count": 5,
   "metadata": {},
   "outputs": [
    {
     "name": "stdout",
     "output_type": "stream",
     "text": [
      "Fido the dog is 10 years old.\n"
     ]
    }
   ],
   "source": [
    "# converted to dictionary to increase readability\n",
    "pet = {'category': 'dog', 'name': 'Fido', 'age':10}\n",
    "\n",
    "output = pet['name'] + ' the ' + pet['category'] + ' is ' + str(pet['age']) + ' years old.'\n",
    "print(output)"
   ]
  },
  {
   "cell_type": "markdown",
   "metadata": {},
   "source": [
    "# q4"
   ]
  },
  {
   "cell_type": "code",
   "execution_count": 6,
   "metadata": {},
   "outputs": [],
   "source": [
    "# method to get minimum of 3 numbers without using min()\n",
    "def get_minimum(e1, e2, e3):\n",
    "    \n",
    "    try:\n",
    "        minimum = e3\n",
    "        if (e1 < e2 and e1 < e3):\n",
    "            minimum = e1\n",
    "        elif(e2 < e3):\n",
    "            minimum = e2\n",
    "            \n",
    "    except TypeError:\n",
    "        print('ERROR: arguments have to be numbers')\n",
    "        minimum = None\n",
    "        \n",
    "    return minimum"
   ]
  },
  {
   "cell_type": "code",
   "execution_count": 7,
   "metadata": {},
   "outputs": [
    {
     "name": "stdout",
     "output_type": "stream",
     "text": [
      "ERROR: arguments have to be numbers\n"
     ]
    }
   ],
   "source": [
    "get_minimum('2',5,1)"
   ]
  },
  {
   "cell_type": "markdown",
   "metadata": {},
   "source": [
    "# q5"
   ]
  },
  {
   "cell_type": "code",
   "execution_count": 8,
   "metadata": {},
   "outputs": [],
   "source": [
    "# 1. Removed multiple return statements and condensed into one\n",
    "# 2. Added try except blocks for gracefule exit\n",
    "\n",
    "def apply_operation(left_operand, right_operand, operator):\n",
    "    result = None\n",
    "\n",
    "    try:\n",
    "        if operator == '+':\n",
    "            result = left_operand + right_operand\n",
    "            \n",
    "        elif operator == '-':\n",
    "            result = left_operand - right_operand\n",
    "            \n",
    "        elif operator == '*':\n",
    "            result = left_operand * right_operand\n",
    "            \n",
    "        elif operator == '/':\n",
    "            try:\n",
    "                result = left_operand / right_operand\n",
    "            except ZeroDivisionError:\n",
    "                print('ERROR: Right operand cannot be zero')\n",
    "                \n",
    "        else:\n",
    "            print('ERROR: Invalid operator')\n",
    "            \n",
    "    except TypeError:\n",
    "        print('ERROR: Operands have to be numbers')\n",
    "                    \n",
    "    return result"
   ]
  },
  {
   "cell_type": "code",
   "execution_count": 9,
   "metadata": {},
   "outputs": [
    {
     "name": "stdout",
     "output_type": "stream",
     "text": [
      "ERROR: Operands have to be numbers\n"
     ]
    }
   ],
   "source": [
    "apply_operation('str2',1,'-')"
   ]
  },
  {
   "cell_type": "markdown",
   "metadata": {},
   "source": [
    "# q6"
   ]
  },
  {
   "cell_type": "code",
   "execution_count": 19,
   "metadata": {},
   "outputs": [],
   "source": [
    "import json\n",
    "from tkinter import *\n",
    "from tkinter.ttk import *\n",
    "from PIL import Image \n",
    "\n",
    "\n",
    "filename = 'ca.json'\n",
    "flag_path = 'flag.gif'\n",
    "\n",
    "with open(filename, 'r') as f:\n",
    "    data = json.load(f)\n",
    "    \n",
    "tag = ['name', 'county_name', 'primary_latitude', 'primary_longitude', 'state_abbreviation'] \n",
    "\n",
    "#extract feilds\n",
    "cities = []\n",
    "counties = {}\n",
    "lats = {}\n",
    "longs = {}\n",
    "state = {}\n",
    "\n",
    "for index,item in enumerate(data):\n",
    "    cities.append(data[index][tag[0]])\n",
    "    counties[cities[index]] = data[index][tag[1]]\n",
    "    lats[cities[index]] = data[index][tag[2]]\n",
    "    longs[cities[index]] = data[index][tag[3]]\n",
    "    state[cities[index]] = data[index][tag[4]]\n",
    "    \n",
    "font_size = 16\n",
    "font_style = \"Helvetica\""
   ]
  },
  {
   "cell_type": "code",
   "execution_count": 20,
   "metadata": {},
   "outputs": [],
   "source": [
    "class CityInfo:\n",
    "    def __init__(self, master):\n",
    "        self.master = master\n",
    "        master.title(\"City Information\")\n",
    "        master.geometry('575x195')\n",
    "        # disbale resizing of window\n",
    "        master.resizable(False, False)\n",
    "\n",
    "        # field values on start\n",
    "        self.county = counties[cities[0]]\n",
    "        self.latitude = lats[cities[0]]\n",
    "        self.longitude = longs[cities[0]]\n",
    "        self.state = state[cities[0]]\n",
    "    \n",
    "        # flag \n",
    "        self.img = PhotoImage(file=flag_path)\n",
    "        self.flag = Label(image = self.img)\n",
    "        self.flag.image = self.img\n",
    "        \n",
    "        # Create a main menu and add a command to it\n",
    "        main_menu = Menu(master, tearoff=0)\n",
    "        main_menu.add_command(label=\"Quit\", command=root.destroy)\n",
    "        root.config(menu=main_menu)\n",
    "        \n",
    "        self.city_label = Label(master, text=\"City\", font=(font_style, font_size))\n",
    "        \n",
    "        # combobox\n",
    "        self.citybox = Combobox(master, font=(font_style, font_size))\n",
    "        # apply font to combobox list\n",
    "        root.option_add('*TCombobox*Listbox.font',(font_style, font_size))  \n",
    "        self.citybox.bind(\"<<ComboboxSelected>>\", self.cityselect)       \n",
    "        self.citybox['values']= cities\n",
    "        self.citybox.current(0)\n",
    "\n",
    "        #county\n",
    "        self.countylabel = Label(master, text=\"County\", font=(font_style, font_size))\n",
    "       \n",
    "        self.county_label_text = StringVar()\n",
    "        self.county_label_text.set(self.county)\n",
    "        self.county_label = Label(master, textvariable=self.county_label_text, background='white',\n",
    "                                  font=(font_style, font_size))\n",
    "        \n",
    "        \n",
    "        #latitude\n",
    "        self.latlabel = Label(master, text=\"Latitude\", font=(font_style, font_size))\n",
    "        \n",
    "        self.lat_label_text = StringVar()\n",
    "        self.lat_label_text.set(self.latitude)        \n",
    "        self.lat_label = Label(master, textvariable=self.lat_label_text, background='white', \n",
    "                               font=(font_style, font_size))\n",
    "              \n",
    "        \n",
    "        #longitude\n",
    "        self.lonlabel = Label(master, text=\"Longitude\", font=(font_style, font_size))\n",
    "\n",
    "        self.lon_label_text = StringVar()\n",
    "        self.lon_label_text.set(self.longitude)        \n",
    "        self.lon_label = Label(master, textvariable=self.lon_label_text, background='white', \n",
    "                               font=(font_style, font_size))\n",
    "        \n",
    "                           \n",
    "        # Layout\n",
    "        self.city_label.grid(column=0, row=0, sticky=W, pady=5)\n",
    "        self.citybox.grid(column=25, row=0, pady=5)\n",
    "        \n",
    "        self.countylabel.grid(column=0, row=1, sticky=W, pady=5)\n",
    "        self.county_label.grid(column=25, row=1, sticky=W+E, pady=5)\n",
    "        \n",
    "        self.latlabel.grid(column=0, row=2, sticky=W, pady=5)\n",
    "        self.lat_label.grid(column=25, row=2, sticky=W+E, pady=5)\n",
    "        \n",
    "        self.lonlabel.grid(column=0, row=3, sticky=W, pady=5)\n",
    "        self.lon_label.grid(column=25, row=3, sticky=W+E, pady=5)\n",
    "        \n",
    "        self.flag.grid(row = 0, column = 100, rowspan = 5, padx = 5, pady = 5, sticky=E)\n",
    "                           \n",
    "    \n",
    "        \n",
    "    # Methods    \n",
    "    # event from combobox    \n",
    "    def cityselect (self, event):\n",
    "        self.city_selected = self.citybox.get()\n",
    "        self.updatefields(self.city_selected)\n",
    "        \n",
    "    # update all fields    \n",
    "    def updatefields (self, event):\n",
    "        self.county_label_text.set(counties[event])\n",
    "        self.lat_label_text.set(lats[event])\n",
    "        self.lon_label_text.set(longs[event])   \n",
    "        \n",
    "        #self.state_label_text.set(state[event])\n",
    "      \n",
    "        \n",
    "        \n",
    "\n",
    "root = Tk()\n",
    "my_gui = CityInfo(root)\n",
    "root.mainloop()"
   ]
  },
  {
   "cell_type": "markdown",
   "metadata": {},
   "source": [
    "# q7"
   ]
  },
  {
   "cell_type": "code",
   "execution_count": null,
   "metadata": {},
   "outputs": [],
   "source": []
  }
 ],
 "metadata": {
  "kernelspec": {
   "display_name": "Python 3",
   "language": "python",
   "name": "python3"
  },
  "language_info": {
   "codemirror_mode": {
    "name": "ipython",
    "version": 3
   },
   "file_extension": ".py",
   "mimetype": "text/x-python",
   "name": "python",
   "nbconvert_exporter": "python",
   "pygments_lexer": "ipython3",
   "version": "3.5.2"
  },
  "widgets": {
   "state": {},
   "version": "1.1.2"
  }
 },
 "nbformat": 4,
 "nbformat_minor": 2
}
